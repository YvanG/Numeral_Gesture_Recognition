{
 "cells": [
  {
   "cell_type": "markdown",
   "metadata": {},
   "source": [
    "#!/usr/bin/env python\n",
    "\n",
    "__author__ = \"Ivan Gruber\"\n",
    "__version__ = \"1.0.0\"\n",
    "__maintainer__ = \"Ivan Gruber\"\n",
    "__email__ = \"ivan.gruber@seznam.cz\"\n",
    "\n",
    "\"\"\"\n",
    "HoG calculation over depth data\n",
    "\"\"\""
   ]
  },
  {
   "cell_type": "code",
   "execution_count": 1,
   "metadata": {
    "collapsed": false,
    "deletable": true,
    "editable": true
   },
   "outputs": [],
   "source": [
    "import os\n",
    "\n",
    "import numpy as np\n",
    "import matplotlib.pyplot as plt\n",
    "import  scipy.stats as stats\n",
    "import cv2\n",
    "import h5py\n",
    "from skimage.feature import hog\n",
    "from skimage import data, exposure"
   ]
  },
  {
   "cell_type": "code",
   "execution_count": 35,
   "metadata": {
    "collapsed": false,
    "deletable": true,
    "editable": true
   },
   "outputs": [
    {
     "name": "stdout",
     "output_type": "stream",
     "text": [
      "(1152,)\n"
     ]
    }
   ],
   "source": [
    "fd, hog_image = hog(pom, orientations=8, pixels_per_cell=(16, 16), cells_per_block=(3, 3), visualise=True)\n",
    "print(fd.shape)"
   ]
  },
  {
   "cell_type": "code",
   "execution_count": 36,
   "metadata": {
    "collapsed": false,
    "deletable": true,
    "editable": true
   },
   "outputs": [
    {
     "data": {
      "image/png": "[encoded data removed]",
      "text/plain": [
       "<matplotlib.figure.Figure at 0x2b167955e668>"
      ]
     },
     "metadata": {},
     "output_type": "display_data"
    }
   ],
   "source": [
    "fig, (ax1, ax2) = plt.subplots(1, 2, figsize=(8, 4), sharex=True, sharey=True)\n",
    "\n",
    "ax1.axis('off')\n",
    "ax1.imshow(pom, cmap=plt.cm.gray)\n",
    "ax1.set_title('Input image')\n",
    "\n",
    "# Rescale histogram for better display\n",
    "hog_image_rescaled = exposure.rescale_intensity(hog_image, in_range=(0, 10))\n",
    "\n",
    "ax2.axis('off')\n",
    "ax2.imshow(hog_image_rescaled, cmap=plt.cm.gray)\n",
    "ax2.set_title('Histogram of Oriented Gradients')\n",
    "plt.show()"
   ]
  },
  {
   "cell_type": "code",
   "execution_count": 68,
   "metadata": {
    "collapsed": false,
    "deletable": true,
    "editable": true
   },
   "outputs": [
    {
     "name": "stdout",
     "output_type": "stream",
     "text": [
      "Byl nacten soubor: /storage/plzen1/home/grubiv/AMIR/SPECOM2018/annotations/train_h5/trainN_3.h5\n",
      "(97729, 96, 96)\n",
      "(97729,)\n"
     ]
    }
   ],
   "source": [
    "data_path = '/storage/plzen1/home/grubiv/AMIR/SPECOM2018/annotations/train_h5/'\n",
    "filename = 'trainN_3.h5'\n",
    "f_out = data_path+filename\n",
    "with h5py.File(f_out,'r') as fr:\n",
    "    print('Byl nacten soubor: '+f_out)\n",
    "    X = fr['data'][:]\n",
    "    y = fr['label'][:]\n",
    "print(X.shape)\n",
    "print(y.shape)"
   ]
  },
  {
   "cell_type": "code",
   "execution_count": 62,
   "metadata": {
    "collapsed": true,
    "deletable": true,
    "editable": true
   },
   "outputs": [],
   "source": [
    "HoGs = np.zeros((X.shape[0], 1152))\n",
    "for i in range(0, X.shape[0]):\n",
    "    HoGs[i,:] = hog(X[i,:,:], orientations=8, pixels_per_cell=(16, 16), cells_per_block=(3, 3))    "
   ]
  },
  {
   "cell_type": "code",
   "execution_count": 63,
   "metadata": {
    "collapsed": false,
    "deletable": true,
    "editable": true
   },
   "outputs": [
    {
     "name": "stdout",
     "output_type": "stream",
     "text": [
      "Soubor: /storage/plzen1/home/grubiv/AMIR/SPECOM2018/annotations/HoGs/HoG_trainN_3.h5 byl ulozen!\n"
     ]
    }
   ],
   "source": [
    "f_new = '/storage/plzen1/home/grubiv/AMIR/SPECOM2018/annotations/HoGs/HoG_'+filename\n",
    "with h5py.File(f_new, 'w') as fw:\n",
    "    fw.create_dataset('data', (HoGs.shape[0], HoGs.shape[1]), dtype=np.float32)\n",
    "    fw.create_dataset('label', (y.shape[0],), dtype=int)\n",
    "    fw['data'][:] = HoGs[:,:]\n",
    "    fw['label'][:] = y[:]\n",
    "    print('Soubor: '+f_new+' byl ulozen!')"
   ]
  },
  {
   "cell_type": "code",
   "execution_count": 14,
   "metadata": {
    "collapsed": false,
    "deletable": true,
    "editable": true
   },
   "outputs": [
    {
     "name": "stdout",
     "output_type": "stream",
     "text": [
      "Byl nacten soubor: /storage/plzen1/home/grubiv/AMIR/SPECOM2018/annotations/test_h5/testN_1.h5\n",
      "(29728, 96, 96)\n",
      "(29728,)\n"
     ]
    }
   ],
   "source": [
    "data_path = '/storage/plzen1/home/grubiv/AMIR/SPECOM2018/annotations/test_h5/'\n",
    "filename = 'testN_1.h5'\n",
    "f_out = data_path+filename\n",
    "with h5py.File(f_out,'r') as fr:\n",
    "    print('Byl nacten soubor: '+f_out)\n",
    "    X = fr['data'][:]\n",
    "    y = fr['label'][:]\n",
    "print(X.shape)\n",
    "print(y.shape)"
   ]
  },
  {
   "cell_type": "code",
   "execution_count": 15,
   "metadata": {
    "collapsed": true,
    "deletable": true,
    "editable": true
   },
   "outputs": [],
   "source": [
    "HoGs = np.zeros((X.shape[0], 1152))\n",
    "for i in range(0, X.shape[0]):\n",
    "    HoGs[i,:] = hog(X[i,:,:], orientations=8, pixels_per_cell=(16, 16), cells_per_block=(3, 3)) "
   ]
  },
  {
   "cell_type": "code",
   "execution_count": 16,
   "metadata": {
    "collapsed": false,
    "deletable": true,
    "editable": true
   },
   "outputs": [
    {
     "name": "stdout",
     "output_type": "stream",
     "text": [
      "Soubor: /storage/plzen1/home/grubiv/AMIR/SPECOM2018/annotations/HoGs/HoG_testN_1.h5 byl ulozen!\n"
     ]
    }
   ],
   "source": [
    "f_new = '/storage/plzen1/home/grubiv/AMIR/SPECOM2018/annotations/HoGs/HoG_'+filename\n",
    "with h5py.File(f_new, 'w') as fw:\n",
    "    fw.create_dataset('data', (HoGs.shape[0], HoGs.shape[1]), dtype=np.float32)\n",
    "    fw.create_dataset('label', (y.shape[0],), dtype=int)\n",
    "    fw['data'][:] = HoGs[:,:]\n",
    "    fw['label'][:] = y[:]\n",
    "    print('Soubor: '+f_new+' byl ulozen!')"
   ]
  },
  {
   "cell_type": "code",
   "execution_count": 3,
   "metadata": {
    "collapsed": false,
    "deletable": true,
    "editable": true
   },
   "outputs": [
    {
     "name": "stdout",
     "output_type": "stream",
     "text": [
      "Byl nacten soubor: /storage/plzen1/home/grubiv/AMIR/SPECOM2018/annotations/HoGs/HoG_trainN_3.h5\n",
      "(97729, 1152)\n",
      "(97729,)\n"
     ]
    }
   ],
   "source": [
    "data_path = '/storage/plzen1/home/grubiv/AMIR/SPECOM2018/annotations/HoGs/'\n",
    "filename = 'HoG_trainN_3.h5'\n",
    "f_out = data_path+filename\n",
    "with h5py.File(f_out,'r') as fr:\n",
    "    print('Byl nacten soubor: '+f_out)\n",
    "    X = fr['data'][:]\n",
    "    y = fr['label'][:]\n",
    "print(X.shape)\n",
    "print(y.shape)"
   ]
  },
  {
   "cell_type": "code",
   "execution_count": null,
   "metadata": {
    "collapsed": true,
    "deletable": true,
    "editable": true
   },
   "outputs": [],
   "source": [
    "from sklearn import svm\n",
    "svc = svm.SVC()\n",
    "svc.fit(X, y) "
   ]
  },
  {
   "cell_type": "code",
   "execution_count": 9,
   "metadata": {
    "collapsed": false
   },
   "outputs": [
    {
     "name": "stdout",
     "output_type": "stream",
     "text": [
      "Byl nacten soubor: /storage/plzen1/home/grubiv/AMIR/SPECOM2018/annotations/HoGs/HoG_testN_3.h5\n",
      "(33114, 1152)\n",
      "(33114,)\n"
     ]
    }
   ],
   "source": [
    "data_path = '/storage/plzen1/home/grubiv/AMIR/SPECOM2018/annotations/HoGs/'\n",
    "filename = 'HoG_testN_3.h5'\n",
    "f_out = data_path+filename\n",
    "with h5py.File(f_out,'r') as fr:\n",
    "    print('Byl nacten soubor: '+f_out)\n",
    "    X = fr['data'][:]\n",
    "    y = fr['label'][:]\n",
    "print(X.shape)\n",
    "print(y.shape)"
   ]
  },
  {
   "cell_type": "code",
   "execution_count": 10,
   "metadata": {
    "collapsed": false
   },
   "outputs": [
    {
     "data": {
      "text/plain": [
       "[u'data', u'label']"
      ]
     },
     "execution_count": 10,
     "metadata": {},
     "output_type": "execute_result"
    }
   ],
   "source": [
    "f = h5py.File(f_out, 'r')\n",
    "f.keys()"
   ]
  }
 ],
 "metadata": {
  "kernelspec": {
   "display_name": "Python 2",
   "language": "python",
   "name": "python2"
  },
  "language_info": {
   "codemirror_mode": {
    "name": "ipython",
    "version": 2
   },
   "file_extension": ".py",
   "mimetype": "text/x-python",
   "name": "python",
   "nbconvert_exporter": "python",
   "pygments_lexer": "ipython2",
   "version": "2.7.6"
  }
 },
 "nbformat": 4,
 "nbformat_minor": 2
}
